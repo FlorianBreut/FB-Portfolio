{
    "cells": [
        {
            "cell_type": "markdown",
            "metadata": {},
            "source": "# Traffic Accidents in Denver\n\nLast year I was driving from Colorado Springs to Denver to see my favorite baseball team in Coors Field when I witnessed a terrible car accident. After few researchs I learnt that the highway was one of the most dangerous in the State with accidents every day. Back in France, I decided to analyze data collected by the City of Denver to identify interesting patterns.\n\n<img src=\"https://lh3.googleusercontent.com/proxy/77tMg5kz0LUxS__3J65GDgRhdcRJ750G9b87Gott_HddrMLBeH1oEACasf_TUS6iOSfm5JHLQnKtiKs7-46z_IBJZeSpQvD2h47t3-tJekXbVGRSOZr87uoX8R6k0Z1Cr6WPHPww4DRkTouejSWxqBWtjv7eod2Y_fEAyODaJUwxtttFycLIMHNr1qeRlQP9MIZO7ZDysU40x9Y8xl32P0nMTmjvy-_vjSxwlHY3lANhZCKWG15pEg=s0-d\">\n\nThis Notebook uses Python and the following libraries :\n* pandas for Data reading, cleaning and manipulation,  \n* Matplotlib for Data understanding and visualization,  \n* Folium for geographic plotting"
        },
        {
            "cell_type": "markdown",
            "metadata": {},
            "source": "## 1. Data Collection\n\nData were collected from http://data.opencolorado.org/dataset/city-and-county-of-denver-traffic-accidents/resource/ab699a75-47fa-4df0-8de9-8ba3deb9daff\n\nThe Data is described in detail here : http://data.opencolorado.org/dataset/city-and-county-of-denver-traffic-accidents/resource/ab699a75-47fa-4df0-8de9-8ba3deb9daff\n\nFor the purpose of this project, the Data was uploaded to my IBM Watson Cloud Storage. To use the data, we use botcore.client and read the data from csv thanks to pandas read_csv function."
        },
        {
            "cell_type": "code",
            "execution_count": 1,
            "metadata": {},
            "outputs": [],
            "source": "import types\nimport pandas as pd\nfrom botocore.client import Config\nimport ibm_boto3\n\ndef __iter__(self): return 0"
        },
        {
            "cell_type": "code",
            "execution_count": 2,
            "metadata": {
                "scrolled": true
            },
            "outputs": [],
            "source": "# The code was removed by Watson Studio for sharing."
        },
        {
            "cell_type": "code",
            "execution_count": 3,
            "metadata": {},
            "outputs": [
                {
                    "name": "stderr",
                    "output_type": "stream",
                    "text": "/opt/conda/envs/Python36/lib/python3.6/site-packages/IPython/core/interactiveshell.py:3020: DtypeWarning: Columns (14) have mixed types. Specify dtype option on import or set low_memory=False.\n  interactivity=interactivity, compiler=compiler, result=result)\n"
                }
            ],
            "source": "df_accidents = pd.read_csv(body)"
        },
        {
            "cell_type": "markdown",
            "metadata": {},
            "source": "# 2. Understanding the Data\n\n* we visualize the first rows with head() function  \n* we get a simple statistical analysis of the data with describe() function\n* we check the data type for each column\n* we get the number of columns and rows of the DataFrame "
        },
        {
            "cell_type": "code",
            "execution_count": 4,
            "metadata": {},
            "outputs": [
                {
                    "data": {
                        "text/html": "<div>\n<style scoped>\n    .dataframe tbody tr th:only-of-type {\n        vertical-align: middle;\n    }\n\n    .dataframe tbody tr th {\n        vertical-align: top;\n    }\n\n    .dataframe thead th {\n        text-align: right;\n    }\n</style>\n<table border=\"1\" class=\"dataframe\">\n  <thead>\n    <tr style=\"text-align: right;\">\n      <th></th>\n      <th>OBJECTID_1</th>\n      <th>INCIDENT_ID</th>\n      <th>OFFENSE_ID</th>\n      <th>OFFENSE_CODE</th>\n      <th>OFFENSE_CODE_EXTENSION</th>\n      <th>TOP_TRAFFIC_ACCIDENT_OFFENSE</th>\n      <th>FIRST_OCCURRENCE_DATE</th>\n      <th>LAST_OCCURRENCE_DATE</th>\n      <th>REPORTED_DATE</th>\n      <th>INCIDENT_ADDRESS</th>\n      <th>...</th>\n      <th>TU2_VEHICLE_MOVEMENT</th>\n      <th>TU2_DRIVER_ACTION</th>\n      <th>TU2_DRIVER_HUMANCONTRIBFACTOR</th>\n      <th>TU2_PEDESTRIAN_ACTION</th>\n      <th>SERIOUSLY_INJURED</th>\n      <th>FATALITIES</th>\n      <th>FATALITY_MODE_1</th>\n      <th>FATALITY_MODE_2</th>\n      <th>SERIOUSLY_INJURED_MODE_1</th>\n      <th>SERIOUSLY_INJURED_MODE_2</th>\n    </tr>\n  </thead>\n  <tbody>\n    <tr>\n      <th>0</th>\n      <td>1</td>\n      <td>20193963.0</td>\n      <td>2019396354010</td>\n      <td>5401</td>\n      <td>0</td>\n      <td>TRAF - ACCIDENT - HIT &amp; RUN</td>\n      <td>2019-01-02 20:50:00</td>\n      <td>NaN</td>\n      <td>2019-01-02 21:01:00</td>\n      <td>W COLFAX AVE / N FEDERAL BLVD</td>\n      <td>...</td>\n      <td>GOING STRAIGHT</td>\n      <td>OTHER</td>\n      <td>NO APPARENT</td>\n      <td></td>\n      <td>0.0</td>\n      <td>0.0</td>\n      <td></td>\n      <td></td>\n      <td></td>\n      <td></td>\n    </tr>\n    <tr>\n      <th>1</th>\n      <td>2</td>\n      <td>20193966.0</td>\n      <td>2019396654410</td>\n      <td>5441</td>\n      <td>0</td>\n      <td>TRAF - ACCIDENT</td>\n      <td>2019-01-02 20:59:00</td>\n      <td>NaN</td>\n      <td>2019-01-02 20:59:00</td>\n      <td>N DELAWARE ST / W 8TH AVE</td>\n      <td>...</td>\n      <td>GOING STRAIGHT</td>\n      <td>OTHER</td>\n      <td>NO APPARENT</td>\n      <td></td>\n      <td>0.0</td>\n      <td>0.0</td>\n      <td></td>\n      <td></td>\n      <td></td>\n      <td></td>\n    </tr>\n    <tr>\n      <th>2</th>\n      <td>3</td>\n      <td>20193991.0</td>\n      <td>2019399154010</td>\n      <td>5401</td>\n      <td>0</td>\n      <td>TRAF - ACCIDENT - HIT &amp; RUN</td>\n      <td>2019-01-02 09:30:00</td>\n      <td>NaN</td>\n      <td>2019-01-02 21:14:00</td>\n      <td>5000 E 33RD AVE</td>\n      <td>...</td>\n      <td>PARKED</td>\n      <td></td>\n      <td></td>\n      <td></td>\n      <td>0.0</td>\n      <td>0.0</td>\n      <td></td>\n      <td></td>\n      <td></td>\n      <td></td>\n    </tr>\n    <tr>\n      <th>3</th>\n      <td>4</td>\n      <td>20194077.0</td>\n      <td>2019407754410</td>\n      <td>5441</td>\n      <td>0</td>\n      <td>TRAF - ACCIDENT</td>\n      <td>2019-01-02 22:03:00</td>\n      <td>NaN</td>\n      <td>2019-01-02 22:46:00</td>\n      <td>W 48TH AVE / N BANNOCK ST</td>\n      <td>...</td>\n      <td>GOING STRAIGHT</td>\n      <td>OTHER</td>\n      <td>NO APPARENT</td>\n      <td></td>\n      <td>0.0</td>\n      <td>0.0</td>\n      <td></td>\n      <td></td>\n      <td></td>\n      <td></td>\n    </tr>\n    <tr>\n      <th>4</th>\n      <td>5</td>\n      <td>20194189.0</td>\n      <td>2019418954200</td>\n      <td>5420</td>\n      <td>0</td>\n      <td>TRAF - ACCIDENT - DUI/DUID</td>\n      <td>2019-01-02 23:19:00</td>\n      <td>NaN</td>\n      <td>2019-01-02 23:34:00</td>\n      <td>I70 HWYWB / N PECOS ST</td>\n      <td>...</td>\n      <td>STOPPED IN TRAFFIC</td>\n      <td>OTHER</td>\n      <td>NO APPARENT</td>\n      <td></td>\n      <td>0.0</td>\n      <td>0.0</td>\n      <td></td>\n      <td></td>\n      <td></td>\n      <td></td>\n    </tr>\n  </tbody>\n</table>\n<p>5 rows \u00d7 45 columns</p>\n</div>",
                        "text/plain": "   OBJECTID_1  INCIDENT_ID     OFFENSE_ID  OFFENSE_CODE  \\\n0           1   20193963.0  2019396354010          5401   \n1           2   20193966.0  2019396654410          5441   \n2           3   20193991.0  2019399154010          5401   \n3           4   20194077.0  2019407754410          5441   \n4           5   20194189.0  2019418954200          5420   \n\n   OFFENSE_CODE_EXTENSION    TOP_TRAFFIC_ACCIDENT_OFFENSE  \\\n0                       0  TRAF - ACCIDENT - HIT & RUN      \n1                       0  TRAF - ACCIDENT                  \n2                       0  TRAF - ACCIDENT - HIT & RUN      \n3                       0  TRAF - ACCIDENT                  \n4                       0  TRAF - ACCIDENT - DUI/DUID       \n\n  FIRST_OCCURRENCE_DATE LAST_OCCURRENCE_DATE        REPORTED_DATE  \\\n0   2019-01-02 20:50:00                  NaN  2019-01-02 21:01:00   \n1   2019-01-02 20:59:00                  NaN  2019-01-02 20:59:00   \n2   2019-01-02 09:30:00                  NaN  2019-01-02 21:14:00   \n3   2019-01-02 22:03:00                  NaN  2019-01-02 22:46:00   \n4   2019-01-02 23:19:00                  NaN  2019-01-02 23:34:00   \n\n                INCIDENT_ADDRESS  ...  TU2_VEHICLE_MOVEMENT  \\\n0  W COLFAX AVE / N FEDERAL BLVD  ...        GOING STRAIGHT   \n1      N DELAWARE ST / W 8TH AVE  ...        GOING STRAIGHT   \n2                5000 E 33RD AVE  ...                PARKED   \n3      W 48TH AVE / N BANNOCK ST  ...        GOING STRAIGHT   \n4         I70 HWYWB / N PECOS ST  ...    STOPPED IN TRAFFIC   \n\n   TU2_DRIVER_ACTION  TU2_DRIVER_HUMANCONTRIBFACTOR  TU2_PEDESTRIAN_ACTION  \\\n0              OTHER                    NO APPARENT                          \n1              OTHER                    NO APPARENT                          \n2                                                                            \n3              OTHER                    NO APPARENT                          \n4              OTHER                    NO APPARENT                          \n\n  SERIOUSLY_INJURED  FATALITIES FATALITY_MODE_1  FATALITY_MODE_2  \\\n0               0.0         0.0                                    \n1               0.0         0.0                                    \n2               0.0         0.0                                    \n3               0.0         0.0                                    \n4               0.0         0.0                                    \n\n   SERIOUSLY_INJURED_MODE_1 SERIOUSLY_INJURED_MODE_2  \n0                                                     \n1                                                     \n2                                                     \n3                                                     \n4                                                     \n\n[5 rows x 45 columns]"
                    },
                    "execution_count": 4,
                    "metadata": {},
                    "output_type": "execute_result"
                }
            ],
            "source": "df_accidents.head()"
        },
        {
            "cell_type": "code",
            "execution_count": null,
            "metadata": {
                "scrolled": false
            },
            "outputs": [
                {
                    "data": {
                        "text/html": "<div>\n<style scoped>\n    .dataframe tbody tr th:only-of-type {\n        vertical-align: middle;\n    }\n\n    .dataframe tbody tr th {\n        vertical-align: top;\n    }\n\n    .dataframe thead th {\n        text-align: right;\n    }\n</style>\n<table border=\"1\" class=\"dataframe\">\n  <thead>\n    <tr style=\"text-align: right;\">\n      <th></th>\n      <th>OBJECTID_1</th>\n      <th>INCIDENT_ID</th>\n      <th>OFFENSE_ID</th>\n      <th>OFFENSE_CODE</th>\n      <th>OFFENSE_CODE_EXTENSION</th>\n      <th>TOP_TRAFFIC_ACCIDENT_OFFENSE</th>\n      <th>FIRST_OCCURRENCE_DATE</th>\n      <th>LAST_OCCURRENCE_DATE</th>\n      <th>REPORTED_DATE</th>\n      <th>INCIDENT_ADDRESS</th>\n      <th>...</th>\n      <th>TU2_VEHICLE_MOVEMENT</th>\n      <th>TU2_DRIVER_ACTION</th>\n      <th>TU2_DRIVER_HUMANCONTRIBFACTOR</th>\n      <th>TU2_PEDESTRIAN_ACTION</th>\n      <th>SERIOUSLY_INJURED</th>\n      <th>FATALITIES</th>\n      <th>FATALITY_MODE_1</th>\n      <th>FATALITY_MODE_2</th>\n      <th>SERIOUSLY_INJURED_MODE_1</th>\n      <th>SERIOUSLY_INJURED_MODE_2</th>\n    </tr>\n  </thead>\n  <tbody>\n    <tr>\n      <th>count</th>\n      <td>171984.000000</td>\n      <td>1.719840e+05</td>\n      <td>1.719840e+05</td>\n      <td>171984.000000</td>\n      <td>171984.000000</td>\n      <td>171984</td>\n      <td>171984</td>\n      <td>587</td>\n      <td>171984</td>\n      <td>171984</td>\n      <td>...</td>\n      <td>171984</td>\n      <td>171984</td>\n      <td>171984</td>\n      <td>171984</td>\n      <td>171653.000000</td>\n      <td>171653.000000</td>\n      <td>171984</td>\n      <td>171984</td>\n      <td>171984</td>\n      <td>171984</td>\n    </tr>\n    <tr>\n      <th>unique</th>\n      <td>NaN</td>\n      <td>NaN</td>\n      <td>NaN</td>\n      <td>NaN</td>\n      <td>NaN</td>\n      <td>6</td>\n      <td>162052</td>\n      <td>585</td>\n      <td>166275</td>\n      <td>38264</td>\n      <td>...</td>\n      <td>18</td>\n      <td>20</td>\n      <td>17</td>\n      <td>14</td>\n      <td>NaN</td>\n      <td>NaN</td>\n      <td>14</td>\n      <td>5</td>\n      <td>19</td>\n      <td>17</td>\n    </tr>\n    <tr>\n      <th>top</th>\n      <td>NaN</td>\n      <td>NaN</td>\n      <td>NaN</td>\n      <td>NaN</td>\n      <td>NaN</td>\n      <td>TRAF - ACCIDENT</td>\n      <td>2014-11-10 16:00:00</td>\n      <td>2016-03-18 07:00:00</td>\n      <td>2018-11-14 17:30:00</td>\n      <td>I25 HWYNB / W 6TH AVE</td>\n      <td>...</td>\n      <td>GOING STRAIGHT</td>\n      <td>OTHER</td>\n      <td>NO APPARENT</td>\n      <td></td>\n      <td>NaN</td>\n      <td>NaN</td>\n      <td></td>\n      <td></td>\n      <td></td>\n      <td></td>\n    </tr>\n    <tr>\n      <th>freq</th>\n      <td>NaN</td>\n      <td>NaN</td>\n      <td>NaN</td>\n      <td>NaN</td>\n      <td>NaN</td>\n      <td>117627</td>\n      <td>8</td>\n      <td>2</td>\n      <td>5</td>\n      <td>1188</td>\n      <td>...</td>\n      <td>68879</td>\n      <td>137659</td>\n      <td>135365</td>\n      <td>159305</td>\n      <td>NaN</td>\n      <td>NaN</td>\n      <td>171297</td>\n      <td>171637</td>\n      <td>168104</td>\n      <td>171276</td>\n    </tr>\n    <tr>\n      <th>mean</th>\n      <td>85992.500000</td>\n      <td>2.244937e+09</td>\n      <td>2.244937e+14</td>\n      <td>5429.908468</td>\n      <td>0.047650</td>\n      <td>NaN</td>\n      <td>NaN</td>\n      <td>NaN</td>\n      <td>NaN</td>\n      <td>NaN</td>\n      <td>...</td>\n      <td>NaN</td>\n      <td>NaN</td>\n      <td>NaN</td>\n      <td>NaN</td>\n      <td>0.023915</td>\n      <td>0.002190</td>\n      <td>NaN</td>\n      <td>NaN</td>\n      <td>NaN</td>\n      <td>NaN</td>\n    </tr>\n    <tr>\n      <th>std</th>\n      <td>49647.648686</td>\n      <td>1.146945e+10</td>\n      <td>1.146945e+15</td>\n      <td>17.589723</td>\n      <td>0.331666</td>\n      <td>NaN</td>\n      <td>NaN</td>\n      <td>NaN</td>\n      <td>NaN</td>\n      <td>NaN</td>\n      <td>...</td>\n      <td>NaN</td>\n      <td>NaN</td>\n      <td>NaN</td>\n      <td>NaN</td>\n      <td>0.178494</td>\n      <td>0.048943</td>\n      <td>NaN</td>\n      <td>NaN</td>\n      <td>NaN</td>\n      <td>NaN</td>\n    </tr>\n    <tr>\n      <th>min</th>\n      <td>1.000000</td>\n      <td>2.013300e+04</td>\n      <td>2.013354e+09</td>\n      <td>5401.000000</td>\n      <td>0.000000</td>\n      <td>NaN</td>\n      <td>NaN</td>\n      <td>NaN</td>\n      <td>NaN</td>\n      <td>NaN</td>\n      <td>...</td>\n      <td>NaN</td>\n      <td>NaN</td>\n      <td>NaN</td>\n      <td>NaN</td>\n      <td>0.000000</td>\n      <td>0.000000</td>\n      <td>NaN</td>\n      <td>NaN</td>\n      <td>NaN</td>\n      <td>NaN</td>\n    </tr>\n    <tr>\n      <th>25%</th>\n      <td>42996.750000</td>\n      <td>2.014192e+09</td>\n      <td>2.014192e+14</td>\n      <td>5401.000000</td>\n      <td>0.000000</td>\n      <td>NaN</td>\n      <td>NaN</td>\n      <td>NaN</td>\n      <td>NaN</td>\n      <td>NaN</td>\n      <td>...</td>\n      <td>NaN</td>\n      <td>NaN</td>\n      <td>NaN</td>\n      <td>NaN</td>\n      <td>0.000000</td>\n      <td>0.000000</td>\n      <td>NaN</td>\n      <td>NaN</td>\n      <td>NaN</td>\n      <td>NaN</td>\n    </tr>\n    <tr>\n      <th>50%</th>\n      <td>85992.500000</td>\n      <td>2.016285e+09</td>\n      <td>2.016285e+14</td>\n      <td>5441.000000</td>\n      <td>0.000000</td>\n      <td>NaN</td>\n      <td>NaN</td>\n      <td>NaN</td>\n      <td>NaN</td>\n      <td>NaN</td>\n      <td>...</td>\n      <td>NaN</td>\n      <td>NaN</td>\n      <td>NaN</td>\n      <td>NaN</td>\n      <td>0.000000</td>\n      <td>0.000000</td>\n      <td>NaN</td>\n      <td>NaN</td>\n      <td>NaN</td>\n      <td>NaN</td>\n    </tr>\n    <tr>\n      <th>75%</th>\n      <td>128988.250000</td>\n      <td>2.018244e+09</td>\n      <td>2.018244e+14</td>\n      <td>5441.000000</td>\n      <td>0.000000</td>\n      <td>NaN</td>\n      <td>NaN</td>\n      <td>NaN</td>\n      <td>NaN</td>\n      <td>NaN</td>\n      <td>...</td>\n      <td>NaN</td>\n      <td>NaN</td>\n      <td>NaN</td>\n      <td>NaN</td>\n      <td>0.000000</td>\n      <td>0.000000</td>\n      <td>NaN</td>\n      <td>NaN</td>\n      <td>NaN</td>\n      <td>NaN</td>\n    </tr>\n    <tr>\n      <th>max</th>\n      <td>171984.000000</td>\n      <td>2.019651e+12</td>\n      <td>2.019651e+17</td>\n      <td>5441.000000</td>\n      <td>3.000000</td>\n      <td>NaN</td>\n      <td>NaN</td>\n      <td>NaN</td>\n      <td>NaN</td>\n      <td>NaN</td>\n      <td>...</td>\n      <td>NaN</td>\n      <td>NaN</td>\n      <td>NaN</td>\n      <td>NaN</td>\n      <td>7.000000</td>\n      <td>3.000000</td>\n      <td>NaN</td>\n      <td>NaN</td>\n      <td>NaN</td>\n      <td>NaN</td>\n    </tr>\n  </tbody>\n</table>\n<p>11 rows \u00d7 45 columns</p>\n</div>",
                        "text/plain": "           OBJECTID_1   INCIDENT_ID    OFFENSE_ID   OFFENSE_CODE  \\\ncount   171984.000000  1.719840e+05  1.719840e+05  171984.000000   \nunique            NaN           NaN           NaN            NaN   \ntop               NaN           NaN           NaN            NaN   \nfreq              NaN           NaN           NaN            NaN   \nmean     85992.500000  2.244937e+09  2.244937e+14    5429.908468   \nstd      49647.648686  1.146945e+10  1.146945e+15      17.589723   \nmin          1.000000  2.013300e+04  2.013354e+09    5401.000000   \n25%      42996.750000  2.014192e+09  2.014192e+14    5401.000000   \n50%      85992.500000  2.016285e+09  2.016285e+14    5441.000000   \n75%     128988.250000  2.018244e+09  2.018244e+14    5441.000000   \nmax     171984.000000  2.019651e+12  2.019651e+17    5441.000000   \n\n        OFFENSE_CODE_EXTENSION    TOP_TRAFFIC_ACCIDENT_OFFENSE  \\\ncount            171984.000000                          171984   \nunique                     NaN                               6   \ntop                        NaN  TRAF - ACCIDENT                  \nfreq                       NaN                          117627   \nmean                  0.047650                             NaN   \nstd                   0.331666                             NaN   \nmin                   0.000000                             NaN   \n25%                   0.000000                             NaN   \n50%                   0.000000                             NaN   \n75%                   0.000000                             NaN   \nmax                   3.000000                             NaN   \n\n       FIRST_OCCURRENCE_DATE LAST_OCCURRENCE_DATE        REPORTED_DATE  \\\ncount                 171984                  587               171984   \nunique                162052                  585               166275   \ntop      2014-11-10 16:00:00  2016-03-18 07:00:00  2018-11-14 17:30:00   \nfreq                       8                    2                    5   \nmean                     NaN                  NaN                  NaN   \nstd                      NaN                  NaN                  NaN   \nmin                      NaN                  NaN                  NaN   \n25%                      NaN                  NaN                  NaN   \n50%                      NaN                  NaN                  NaN   \n75%                      NaN                  NaN                  NaN   \nmax                      NaN                  NaN                  NaN   \n\n             INCIDENT_ADDRESS  ...  TU2_VEHICLE_MOVEMENT  TU2_DRIVER_ACTION  \\\ncount                  171984  ...                171984             171984   \nunique                  38264  ...                    18                 20   \ntop     I25 HWYNB / W 6TH AVE  ...        GOING STRAIGHT              OTHER   \nfreq                     1188  ...                 68879             137659   \nmean                      NaN  ...                   NaN                NaN   \nstd                       NaN  ...                   NaN                NaN   \nmin                       NaN  ...                   NaN                NaN   \n25%                       NaN  ...                   NaN                NaN   \n50%                       NaN  ...                   NaN                NaN   \n75%                       NaN  ...                   NaN                NaN   \nmax                       NaN  ...                   NaN                NaN   \n\n        TU2_DRIVER_HUMANCONTRIBFACTOR  TU2_PEDESTRIAN_ACTION  \\\ncount                          171984                 171984   \nunique                             17                     14   \ntop                       NO APPARENT                          \nfreq                           135365                 159305   \nmean                              NaN                    NaN   \nstd                               NaN                    NaN   \nmin                               NaN                    NaN   \n25%                               NaN                    NaN   \n50%                               NaN                    NaN   \n75%                               NaN                    NaN   \nmax                               NaN                    NaN   \n\n        SERIOUSLY_INJURED     FATALITIES FATALITY_MODE_1  FATALITY_MODE_2  \\\ncount       171653.000000  171653.000000          171984           171984   \nunique                NaN            NaN              14                5   \ntop                   NaN            NaN                                    \nfreq                  NaN            NaN          171297           171637   \nmean             0.023915       0.002190             NaN              NaN   \nstd              0.178494       0.048943             NaN              NaN   \nmin              0.000000       0.000000             NaN              NaN   \n25%              0.000000       0.000000             NaN              NaN   \n50%              0.000000       0.000000             NaN              NaN   \n75%              0.000000       0.000000             NaN              NaN   \nmax              7.000000       3.000000             NaN              NaN   \n\n        SERIOUSLY_INJURED_MODE_1 SERIOUSLY_INJURED_MODE_2  \ncount                     171984                   171984  \nunique                        19                       17  \ntop                                                        \nfreq                      168104                   171276  \nmean                         NaN                      NaN  \nstd                          NaN                      NaN  \nmin                          NaN                      NaN  \n25%                          NaN                      NaN  \n50%                          NaN                      NaN  \n75%                          NaN                      NaN  \nmax                          NaN                      NaN  \n\n[11 rows x 45 columns]"
                    },
                    "execution_count": 5,
                    "metadata": {},
                    "output_type": "execute_result"
                }
            ],
            "source": "df_accidents.describe(include='all')"
        },
        {
            "cell_type": "code",
            "execution_count": null,
            "metadata": {},
            "outputs": [
                {
                    "data": {
                        "text/plain": "OBJECTID_1                         int64\nINCIDENT_ID                      float64\nOFFENSE_ID                         int64\nOFFENSE_CODE                       int64\nOFFENSE_CODE_EXTENSION             int64\nTOP_TRAFFIC_ACCIDENT_OFFENSE      object\nFIRST_OCCURRENCE_DATE             object\nLAST_OCCURRENCE_DATE              object\nREPORTED_DATE                     object\nINCIDENT_ADDRESS                  object\nGEO_X                            float64\nGEO_Y                            float64\nGEO_LON                          float64\nGEO_LAT                          float64\nDISTRICT_ID                       object\nPRECINCT_ID                      float64\nNEIGHBORHOOD_ID                   object\nBICYCLE_IND                      float64\nPEDESTRIAN_IND                   float64\nHARMFUL_EVENT_SEQ_1               object\nHARMFUL_EVENT_SEQ_2               object\nHARMFUL_EVENT_SEQ_3               object\nROAD_LOCATION                     object\nROAD_DESCRIPTION                  object\nROAD_CONTOUR                      object\nROAD_CONDITION                    object\nLIGHT_CONDITION                   object\nTU1_VEHICLE_TYPE                  object\nTU1_TRAVEL_DIRECTION              object\nTU1_VEHICLE_MOVEMENT              object\nTU1_DRIVER_ACTION                 object\nTU1_DRIVER_HUMANCONTRIBFACTOR     object\nTU1_PEDESTRIAN_ACTION             object\nTU2_VEHICLE_TYPE                  object\nTU2_TRAVEL_DIRECTION              object\nTU2_VEHICLE_MOVEMENT              object\nTU2_DRIVER_ACTION                 object\nTU2_DRIVER_HUMANCONTRIBFACTOR     object\nTU2_PEDESTRIAN_ACTION             object\nSERIOUSLY_INJURED                float64\nFATALITIES                       float64\nFATALITY_MODE_1                   object\nFATALITY_MODE_2                   object\nSERIOUSLY_INJURED_MODE_1          object\nSERIOUSLY_INJURED_MODE_2          object\ndtype: object"
                    },
                    "execution_count": 6,
                    "metadata": {},
                    "output_type": "execute_result"
                }
            ],
            "source": "df_accidents.dtypes"
        },
        {
            "cell_type": "code",
            "execution_count": null,
            "metadata": {},
            "outputs": [
                {
                    "data": {
                        "text/plain": "(171984, 45)"
                    },
                    "execution_count": 7,
                    "metadata": {},
                    "output_type": "execute_result"
                }
            ],
            "source": "df_accidents.shape"
        },
        {
            "cell_type": "markdown",
            "metadata": {},
            "source": "# 3. Cleaning the Data\n* We check the DataFrame for NaN values buy computing the numer of NaN in each colums  \n* We remove columns that are not necesary for our analysis (LAST_OCCURENCE_DATE, BYCICLE_IND, PEDESTRIAN_IND)\n* We rename some columns for better understanding\n* We drop columns with invalid geographic coordinates (NaN GEO_LAT or GEO_LON) because we want to plot accidents on a Denver county map. \n* We replace NaN values by -1 in other columns"
        },
        {
            "cell_type": "code",
            "execution_count": null,
            "metadata": {},
            "outputs": [
                {
                    "data": {
                        "text/plain": "OBJECTID_1                            0\nINCIDENT_ID                           0\nOFFENSE_ID                            0\nOFFENSE_CODE                          0\nOFFENSE_CODE_EXTENSION                0\nTOP_TRAFFIC_ACCIDENT_OFFENSE          0\nFIRST_OCCURRENCE_DATE                 0\nLAST_OCCURRENCE_DATE             171397\nREPORTED_DATE                         0\nINCIDENT_ADDRESS                      0\nGEO_X                              6905\nGEO_Y                              6905\nGEO_LON                            6905\nGEO_LAT                            6905\nDISTRICT_ID                        2824\nPRECINCT_ID                        6929\nNEIGHBORHOOD_ID                    6929\nBICYCLE_IND                        3943\nPEDESTRIAN_IND                     3943\nHARMFUL_EVENT_SEQ_1                   0\nHARMFUL_EVENT_SEQ_2                   0\nHARMFUL_EVENT_SEQ_3                   0\nROAD_LOCATION                         0\nROAD_DESCRIPTION                      0\nROAD_CONTOUR                          0\nROAD_CONDITION                        0\nLIGHT_CONDITION                       0\nTU1_VEHICLE_TYPE                      0\nTU1_TRAVEL_DIRECTION                  0\nTU1_VEHICLE_MOVEMENT                  0\nTU1_DRIVER_ACTION                     0\nTU1_DRIVER_HUMANCONTRIBFACTOR         0\nTU1_PEDESTRIAN_ACTION                 0\nTU2_VEHICLE_TYPE                      0\nTU2_TRAVEL_DIRECTION                  0\nTU2_VEHICLE_MOVEMENT                  0\nTU2_DRIVER_ACTION                     0\nTU2_DRIVER_HUMANCONTRIBFACTOR         0\nTU2_PEDESTRIAN_ACTION                 0\nSERIOUSLY_INJURED                   331\nFATALITIES                          331\nFATALITY_MODE_1                       0\nFATALITY_MODE_2                       0\nSERIOUSLY_INJURED_MODE_1              0\nSERIOUSLY_INJURED_MODE_2              0\ndtype: int64"
                    },
                    "execution_count": 8,
                    "metadata": {},
                    "output_type": "execute_result"
                }
            ],
            "source": "df_accidents.isna().sum() "
        },
        {
            "cell_type": "code",
            "execution_count": null,
            "metadata": {},
            "outputs": [
                {
                    "data": {
                        "text/plain": "OBJECTID_1                         0\nINCIDENT_ID                        0\nOFFENSE_ID                         0\nOFFENSE_CODE                       0\nOFFENSE_CODE_EXTENSION             0\nTOP_TRAFFIC_ACCIDENT_OFFENSE       0\nFIRST_OCCURRENCE_DATE              0\nREPORTED_DATE                      0\nINCIDENT_ADDRESS                   0\nGEO_X                              0\nGEO_Y                              0\nGEO_LON                            0\nGEO_LAT                            0\nDISTRICT_ID                        0\nPRECINCT_ID                        0\nNEIGHBORHOOD_ID                    0\nHARMFUL_EVENT_SEQ_1                0\nHARMFUL_EVENT_SEQ_2                0\nHARMFUL_EVENT_SEQ_3                0\nROAD_LOCATION                      0\nROAD_DESCRIPTION                   0\nROAD_CONTOUR                       0\nROAD_CONDITION                     0\nLIGHT_CONDITION                    0\nTU1_VEHICLE_TYPE                   0\nTU1_TRAVEL_DIRECTION               0\nTU1_VEHICLE_MOVEMENT               0\nTU1_DRIVER_ACTION                  0\nTU1_DRIVER_HUMAN_CONTRIB_FACTOR    0\nTU1_PEDESTRIAN_ACTION              0\nTU2_VEHICLE_TYPE                   0\nTU2_TRAVEL_DIRECTION               0\nTU2_VEHICLE_MOVEMENT               0\nTU2_DRIVER_ACTION                  0\nTU2_DRIVER_HUMAN_CONTRIB_FACTOR    0\nTU2_PEDESTRIAN_ACTION              0\nSERIOUSLY_INJURED                  0\nFATALITIES                         0\nFATALITY_MODE_1                    0\nFATALITY_MODE_2                    0\nSERIOUSLY_INJURED_MODE_1           0\nSERIOUSLY_INJURED_MODE_2           0\ndtype: int64"
                    },
                    "execution_count": 9,
                    "metadata": {},
                    "output_type": "execute_result"
                }
            ],
            "source": "if \"LAST_OCCURRENCE_DATE\" in df_accidents:\n    df_accidents.drop(\"LAST_OCCURRENCE_DATE\", axis=1, inplace=True)\nif \"BICYCLE_IND\" in df_accidents:\n    df_accidents.drop(\"BICYCLE_IND\", axis=1, inplace=True)\nif \"PEDESTRIAN_IND\" in df_accidents:\n    df_accidents.drop(\"PEDESTRIAN_IND\", axis=1, inplace=True)\ndf_accidents.rename(columns={\"TU1_DRIVER_HUMANCONTRIBFACTOR\":\"TU1_DRIVER_HUMAN_CONTRIB_FACTOR\",\"TU2_DRIVER_HUMANCONTRIBFACTOR\":\"TU2_DRIVER_HUMAN_CONTRIB_FACTOR\"}, inplace=True)\ndf_accidents.dropna(subset=['GEO_LON', 'GEO_LAT'],inplace=True)\ndf_accidents.fillna(-1,inplace=True)\ndf_accidents.isna().sum() "
        },
        {
            "cell_type": "code",
            "execution_count": null,
            "metadata": {},
            "outputs": [],
            "source": "df_accidents.describe(include='all')"
        },
        {
            "cell_type": "markdown",
            "metadata": {},
            "source": "# 4. Analyzing the Data\nWe use matplot lib to analyze the influence of light conditions on accidents and draw the proportion of accidents by type."
        },
        {
            "cell_type": "code",
            "execution_count": null,
            "metadata": {},
            "outputs": [],
            "source": "pie_light_condition = df_accidents[\"LIGHT_CONDITION\"].value_counts(sort=False)\npie_light_condition"
        },
        {
            "cell_type": "code",
            "execution_count": null,
            "metadata": {},
            "outputs": [],
            "source": "pie_light_condition = df_accidents[\"LIGHT_CONDITION\"].value_counts(sort=False).plot.pie(figsize=(10, 10))\npie_light_condition"
        },
        {
            "cell_type": "code",
            "execution_count": null,
            "metadata": {},
            "outputs": [],
            "source": "bar_light_condition = df_accidents[\"TOP_TRAFFIC_ACCIDENT_OFFENSE\"].value_counts(sort=False).sort_values().plot.barh(figsize=(15, 4), color=['grey', 'grey', 'grey','grey','orange', 'red'])\nbar_light_condition"
        },
        {
            "cell_type": "markdown",
            "metadata": {},
            "source": "# 5. Accidents Mapping\nIn this section we will build a dataframe with letal accidents, sort the data by gravity (number of fatalities and injured) and plot the data on a map thanks to folium library."
        },
        {
            "cell_type": "code",
            "execution_count": null,
            "metadata": {},
            "outputs": [],
            "source": "!pip install folium\nimport folium\nimport math"
        },
        {
            "cell_type": "code",
            "execution_count": null,
            "metadata": {},
            "outputs": [],
            "source": "df_fatal = df_accidents[df_accidents[\"TOP_TRAFFIC_ACCIDENT_OFFENSE\"]==\"TRAF - ACCIDENT - FATAL       \"].sort_values(by=[\"FATALITIES\",\"SERIOUSLY_INJURED\",\"OFFENSE_ID\"], ascending=False)\ndf_fatal.head(10)"
        },
        {
            "cell_type": "code",
            "execution_count": null,
            "metadata": {
                "scrolled": false
            },
            "outputs": [],
            "source": "m = folium.Map(location=[39.742043,-104.991531], tiles='Stamen Terrain', zoom_start=12)\n\nnb_fatal = df_fatal.shape[0]\nnb_map = min(nb_fatal,30)\n\nfatal_lat = df_fatal[\"GEO_LAT\"]\nfatal_lon = df_fatal[\"GEO_LON\"]\nnb_fatalities = df_fatal[\"FATALITIES\"]\nfor i in range(0,nb_map):\n    lat_i = fatal_lat.iloc[i]\n    lon_i = fatal_lon.iloc[i]\n    obj_coord = \"LAT=\" + str(lat_i) +'\\n' + 'LON=' + str(lon_i)\n    if nb_fatalities.iloc[i] > 2:\n        folium.Marker([lat_i, lon_i], popup=obj_coord, icon=folium.Icon(color='red')).add_to(m)\n    elif nb_fatalities.iloc[i] == 2:\n        folium.Marker([lat_i, lon_i], popup=obj_coord, icon=folium.Icon(color='orange')).add_to(m)\n    else :\n        folium.Marker([lat_i, lon_i], popup=obj_coord, icon=folium.Icon(color='gray')).add_to(m)\n        \nm"
        },
        {
            "cell_type": "code",
            "execution_count": null,
            "metadata": {},
            "outputs": [],
            "source": ""
        }
    ],
    "metadata": {
        "kernelspec": {
            "display_name": "Python 3.6",
            "language": "python",
            "name": "python3"
        },
        "language_info": {
            "codemirror_mode": {
                "name": "ipython",
                "version": 3
            },
            "file_extension": ".py",
            "mimetype": "text/x-python",
            "name": "python",
            "nbconvert_exporter": "python",
            "pygments_lexer": "ipython3",
            "version": "3.6.9"
        }
    },
    "nbformat": 4,
    "nbformat_minor": 1
}